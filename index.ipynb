{
 "cells": [
  {
   "cell_type": "markdown",
   "metadata": {},
   "source": [
    "# Keras - Lab\n",
    "\n",
    "## Introduction\n",
    "\n",
    "In this lab you'll once again build a neural network, but this time you will be using Keras to do a lot of the heavy lifting.\n",
    "\n",
    "\n",
    "## Objectives\n",
    "\n",
    "You will be able to:\n",
    "\n",
    "- Build a neural network using Keras \n",
    "- Evaluate performance of a neural network using Keras "
   ]
  },
  {
   "cell_type": "markdown",
   "metadata": {},
   "source": [
    "## Required Packages\n",
    "\n",
    "We'll start by importing all of the required packages and classes."
   ]
  },
  {
   "cell_type": "code",
   "execution_count": 1,
   "metadata": {},
   "outputs": [
    {
     "name": "stderr",
     "output_type": "stream",
     "text": [
      "Using TensorFlow backend.\n",
      "C:\\Users\\Quan\\anaconda3\\lib\\site-packages\\tensorflow\\python\\framework\\dtypes.py:516: FutureWarning: Passing (type, 1) or '1type' as a synonym of type is deprecated; in a future version of numpy, it will be understood as (type, (1,)) / '(1,)type'.\n",
      "  _np_qint8 = np.dtype([(\"qint8\", np.int8, 1)])\n",
      "C:\\Users\\Quan\\anaconda3\\lib\\site-packages\\tensorflow\\python\\framework\\dtypes.py:517: FutureWarning: Passing (type, 1) or '1type' as a synonym of type is deprecated; in a future version of numpy, it will be understood as (type, (1,)) / '(1,)type'.\n",
      "  _np_quint8 = np.dtype([(\"quint8\", np.uint8, 1)])\n",
      "C:\\Users\\Quan\\anaconda3\\lib\\site-packages\\tensorflow\\python\\framework\\dtypes.py:518: FutureWarning: Passing (type, 1) or '1type' as a synonym of type is deprecated; in a future version of numpy, it will be understood as (type, (1,)) / '(1,)type'.\n",
      "  _np_qint16 = np.dtype([(\"qint16\", np.int16, 1)])\n",
      "C:\\Users\\Quan\\anaconda3\\lib\\site-packages\\tensorflow\\python\\framework\\dtypes.py:519: FutureWarning: Passing (type, 1) or '1type' as a synonym of type is deprecated; in a future version of numpy, it will be understood as (type, (1,)) / '(1,)type'.\n",
      "  _np_quint16 = np.dtype([(\"quint16\", np.uint16, 1)])\n",
      "C:\\Users\\Quan\\anaconda3\\lib\\site-packages\\tensorflow\\python\\framework\\dtypes.py:520: FutureWarning: Passing (type, 1) or '1type' as a synonym of type is deprecated; in a future version of numpy, it will be understood as (type, (1,)) / '(1,)type'.\n",
      "  _np_qint32 = np.dtype([(\"qint32\", np.int32, 1)])\n",
      "C:\\Users\\Quan\\anaconda3\\lib\\site-packages\\tensorflow\\python\\framework\\dtypes.py:525: FutureWarning: Passing (type, 1) or '1type' as a synonym of type is deprecated; in a future version of numpy, it will be understood as (type, (1,)) / '(1,)type'.\n",
      "  np_resource = np.dtype([(\"resource\", np.ubyte, 1)])\n",
      "C:\\Users\\Quan\\anaconda3\\lib\\site-packages\\tensorboard\\compat\\tensorflow_stub\\dtypes.py:541: FutureWarning: Passing (type, 1) or '1type' as a synonym of type is deprecated; in a future version of numpy, it will be understood as (type, (1,)) / '(1,)type'.\n",
      "  _np_qint8 = np.dtype([(\"qint8\", np.int8, 1)])\n",
      "C:\\Users\\Quan\\anaconda3\\lib\\site-packages\\tensorboard\\compat\\tensorflow_stub\\dtypes.py:542: FutureWarning: Passing (type, 1) or '1type' as a synonym of type is deprecated; in a future version of numpy, it will be understood as (type, (1,)) / '(1,)type'.\n",
      "  _np_quint8 = np.dtype([(\"quint8\", np.uint8, 1)])\n",
      "C:\\Users\\Quan\\anaconda3\\lib\\site-packages\\tensorboard\\compat\\tensorflow_stub\\dtypes.py:543: FutureWarning: Passing (type, 1) or '1type' as a synonym of type is deprecated; in a future version of numpy, it will be understood as (type, (1,)) / '(1,)type'.\n",
      "  _np_qint16 = np.dtype([(\"qint16\", np.int16, 1)])\n",
      "C:\\Users\\Quan\\anaconda3\\lib\\site-packages\\tensorboard\\compat\\tensorflow_stub\\dtypes.py:544: FutureWarning: Passing (type, 1) or '1type' as a synonym of type is deprecated; in a future version of numpy, it will be understood as (type, (1,)) / '(1,)type'.\n",
      "  _np_quint16 = np.dtype([(\"quint16\", np.uint16, 1)])\n",
      "C:\\Users\\Quan\\anaconda3\\lib\\site-packages\\tensorboard\\compat\\tensorflow_stub\\dtypes.py:545: FutureWarning: Passing (type, 1) or '1type' as a synonym of type is deprecated; in a future version of numpy, it will be understood as (type, (1,)) / '(1,)type'.\n",
      "  _np_qint32 = np.dtype([(\"qint32\", np.int32, 1)])\n",
      "C:\\Users\\Quan\\anaconda3\\lib\\site-packages\\tensorboard\\compat\\tensorflow_stub\\dtypes.py:550: FutureWarning: Passing (type, 1) or '1type' as a synonym of type is deprecated; in a future version of numpy, it will be understood as (type, (1,)) / '(1,)type'.\n",
      "  np_resource = np.dtype([(\"resource\", np.ubyte, 1)])\n"
     ]
    }
   ],
   "source": [
    "import matplotlib.pyplot as plt\n",
    "import pandas as pd\n",
    "import numpy as np\n",
    "import random\n",
    "from sklearn.model_selection import train_test_split\n",
    "from keras.utils.np_utils import to_categorical\n",
    "from sklearn import preprocessing\n",
    "from keras.preprocessing.text import Tokenizer\n",
    "from keras import models\n",
    "from keras import layers\n",
    "from keras import optimizers"
   ]
  },
  {
   "cell_type": "markdown",
   "metadata": {},
   "source": [
    "## Load the data\n",
    "\n",
    "In this lab you will be classifying bank complaints available in the `'Bank_complaints.csv'` file. "
   ]
  },
  {
   "cell_type": "code",
   "execution_count": 2,
   "metadata": {},
   "outputs": [
    {
     "name": "stdout",
     "output_type": "stream",
     "text": [
      "<class 'pandas.core.frame.DataFrame'>\n",
      "RangeIndex: 60000 entries, 0 to 59999\n",
      "Data columns (total 2 columns):\n",
      " #   Column                        Non-Null Count  Dtype \n",
      "---  ------                        --------------  ----- \n",
      " 0   Product                       60000 non-null  object\n",
      " 1   Consumer complaint narrative  60000 non-null  object\n",
      "dtypes: object(2)\n",
      "memory usage: 937.6+ KB\n",
      "None\n"
     ]
    },
    {
     "data": {
      "text/html": [
       "<div>\n",
       "<style scoped>\n",
       "    .dataframe tbody tr th:only-of-type {\n",
       "        vertical-align: middle;\n",
       "    }\n",
       "\n",
       "    .dataframe tbody tr th {\n",
       "        vertical-align: top;\n",
       "    }\n",
       "\n",
       "    .dataframe thead th {\n",
       "        text-align: right;\n",
       "    }\n",
       "</style>\n",
       "<table border=\"1\" class=\"dataframe\">\n",
       "  <thead>\n",
       "    <tr style=\"text-align: right;\">\n",
       "      <th></th>\n",
       "      <th>Product</th>\n",
       "      <th>Consumer complaint narrative</th>\n",
       "    </tr>\n",
       "  </thead>\n",
       "  <tbody>\n",
       "    <tr>\n",
       "      <th>0</th>\n",
       "      <td>Student loan</td>\n",
       "      <td>In XX/XX/XXXX I filled out the Fedlaon applica...</td>\n",
       "    </tr>\n",
       "    <tr>\n",
       "      <th>1</th>\n",
       "      <td>Student loan</td>\n",
       "      <td>I am being contacted by a debt collector for p...</td>\n",
       "    </tr>\n",
       "    <tr>\n",
       "      <th>2</th>\n",
       "      <td>Student loan</td>\n",
       "      <td>I cosigned XXXX student loans at SallieMae for...</td>\n",
       "    </tr>\n",
       "    <tr>\n",
       "      <th>3</th>\n",
       "      <td>Student loan</td>\n",
       "      <td>Navient has sytematically and illegally failed...</td>\n",
       "    </tr>\n",
       "    <tr>\n",
       "      <th>4</th>\n",
       "      <td>Student loan</td>\n",
       "      <td>My wife became eligible for XXXX Loan Forgiven...</td>\n",
       "    </tr>\n",
       "  </tbody>\n",
       "</table>\n",
       "</div>"
      ],
      "text/plain": [
       "        Product                       Consumer complaint narrative\n",
       "0  Student loan  In XX/XX/XXXX I filled out the Fedlaon applica...\n",
       "1  Student loan  I am being contacted by a debt collector for p...\n",
       "2  Student loan  I cosigned XXXX student loans at SallieMae for...\n",
       "3  Student loan  Navient has sytematically and illegally failed...\n",
       "4  Student loan  My wife became eligible for XXXX Loan Forgiven..."
      ]
     },
     "execution_count": 2,
     "metadata": {},
     "output_type": "execute_result"
    }
   ],
   "source": [
    "# Import and inspect data\n",
    "df = pd.read_csv('Bank_complaints.csv')\n",
    "print(df.info())\n",
    "df.head()"
   ]
  },
  {
   "cell_type": "markdown",
   "metadata": {},
   "source": [
    "As mentioned earlier, your task is to categorize banking complaints into various predefined categories. Preview what these categories are and what percent of the complaints each accounts for. "
   ]
  },
  {
   "cell_type": "code",
   "execution_count": 4,
   "metadata": {},
   "outputs": [
    {
     "data": {
      "text/plain": [
       "Student loan                   0.190067\n",
       "Credit card                    0.159000\n",
       "Consumer Loan                  0.157900\n",
       "Mortgage                       0.138867\n",
       "Bank account or service        0.138483\n",
       "Credit reporting               0.114400\n",
       "Checking or savings account    0.101283\n",
       "Name: Product, dtype: float64"
      ]
     },
     "execution_count": 4,
     "metadata": {},
     "output_type": "execute_result"
    }
   ],
   "source": [
    "df['Product'].value_counts(normalize=True)"
   ]
  },
  {
   "cell_type": "markdown",
   "metadata": {},
   "source": [
    "## Preprocessing\n",
    "\n",
    "Before we build our neural network, we need to do several preprocessing steps. First, we will create word vector counts (a bag of words type representation) of our complaints text. Next, we will change the category labels to integers. Finally, we will perform our usual train-test split before building and training our neural network using Keras. With that, let's start munging our data! \n",
    "\n",
    "## One-hot encoding of the complaints\n",
    "\n",
    "Our first step again is to transform our textual data into a numerical representation. As we saw in some of our previous lessons on NLP, there are many ways to do this. Here, we'll use the `Tokenizer()` class from the `preprocessing.text` sub-module of the Keras package.   \n",
    "\n",
    "As with our previous work using NLTK, this will transform our text complaints into word vectors. (Note that the method of creating a vector is different from our previous work with NLTK; as you'll see, word order will be preserved as opposed to a bag of words representation). In the below code, we'll only keep the 2,000 most common words and use one-hot encoding. \n",
    "\n"
   ]
  },
  {
   "cell_type": "code",
   "execution_count": null,
   "metadata": {},
   "outputs": [],
   "source": [
    "# As a quick preliminary, briefly review the docstring for keras.preprocessing.text.Tokenizer\n",
    "Tokenizer?"
   ]
  },
  {
   "cell_type": "code",
   "execution_count": 5,
   "metadata": {},
   "outputs": [
    {
     "name": "stdout",
     "output_type": "stream",
     "text": [
      "sequences type: <class 'list'>\n",
      "one_hot_results type: <class 'numpy.ndarray'>\n",
      "Found 50334 unique tokens.\n",
      "Dimensions of our coded results: (60000, 2000)\n"
     ]
    }
   ],
   "source": [
    "# Raw text complaints\n",
    "complaints = df['Consumer complaint narrative'] \n",
    "# Initialize a tokenizer \n",
    "tokenizer = Tokenizer(num_words=2000) \n",
    "# Fit it to the complaints\n",
    "tokenizer.fit_on_texts(complaints) \n",
    "# Generate sequences\n",
    "sequences = tokenizer.texts_to_sequences(complaints) \n",
    "print('sequences type:', type(sequences))\n",
    "# Similar to sequences, but returns a numpy array\n",
    "one_hot_results= tokenizer.texts_to_matrix(complaints, mode='binary') \n",
    "print('one_hot_results type:', type(one_hot_results))\n",
    "# Useful if we wish to decode (more explanation below)\n",
    "word_index = tokenizer.word_index \n",
    "# Tokens are the number of unique words across the corpus\n",
    "print('Found %s unique tokens.' % len(word_index)) \n",
    "# Our coded data\n",
    "print('Dimensions of our coded results:', np.shape(one_hot_results)) "
   ]
  },
  {
   "cell_type": "markdown",
   "metadata": {},
   "source": [
    "## Decoding Word Vectors \n",
    "\n",
    "As a note, you can also decode these vectorized representations of the reviews. The `word_index` variable, defined above, stores the mapping from the label number to the actual word. Somewhat tediously, we can turn this dictionary inside out and map it back to our word vectors, giving us roughly the original complaint back. (As you'll see, the text won't be identical as we limited ourselves to top 2000 words.)\n",
    "\n",
    "## Python Review / Mini Challenge\n",
    "\n",
    "While a bit tangential to our main topic of interest, we need to reverse our current dictionary `word_index` which maps words from our corpus to integers. In decoding our `one_hot_results`, we will need to create a dictionary of these integers to the original words. Below, take the `word_index` dictionary object and change the orientation so that the values are keys and the keys values. In other words, you are transforming something of the form {A:1, B:2, C:3} to {1:A, 2:B, 3:C}. "
   ]
  },
  {
   "cell_type": "code",
   "execution_count": 6,
   "metadata": {},
   "outputs": [],
   "source": [
    "# change the orientation, so the values are keys and the keys are values\n",
    "reverse_index = dict([(value, key) for (key, value) in word_index.items()])"
   ]
  },
  {
   "cell_type": "markdown",
   "metadata": {},
   "source": [
    "## Back to Decoding Our Word Vectors..."
   ]
  },
  {
   "cell_type": "code",
   "execution_count": 7,
   "metadata": {},
   "outputs": [
    {
     "name": "stdout",
     "output_type": "stream",
     "text": [
      "Original complaint text:\n",
      "I have already filed several complaints about AES/PHEAA. I was notified by a XXXX XXXX let @ XXXX, who pretended to be from your office, he said he was from CFPB. I found out this morning he is n't from your office, but is actually works at XXXX. \r\n",
      "\r\n",
      "This has wasted weeks of my time. They AES/PHEAA confirmed and admitted ( see attached transcript of XXXX, conversation at XXXX ( XXXX ) with XXXX that proves they verified the loans are not mine ) the student loans they had XXXX, and collected on, and reported negate credit reporting in my name are in fact, not mine. \r\n",
      "They conclued their investigation on XXXX admitting they made a mistake and have my name on soneone elses loans. I these XXXX loans total {$10000.00}, original amount. My XXXX loans I got was total {$3500.00}. We proved by providing AES/PHEAA, this with my original promissary notes I located recently, the XXXX of my college provided AES/PHEAA with their original shoeinf amounts of my XXXX loans which show different dates and amounts, the dates and amounts are not even close to matching these loans they have in my name, The original lender, XXXX XXXX Bank notifying AES/PHEAA, they never issued me a student loan, and original Loan Guarantor, XXXX, notifying AES/PHEAA, they never were guarantor of my loans. \r\n",
      "\r\n",
      "XXXX straight forward. But today, this person, XXXX XXXX, told me they know these loans are not mine, and they refuse to remove my name off these XXXX loan 's and correct their mistake, essentially forcing me to pay these loans off, bucause in XXXX they sold the loans to XXXX loans. \r\n",
      "\r\n",
      "This is absurd, first protruding to be this office, and then refusing to correct their mistake. \r\n",
      "\r\n",
      "Please for the love of XXXX will soneone from your office call me at XXXX, today. I am a XXXX vet and they are knowingly discriminating against me. \r\n",
      "Pretending to be you.\n",
      "\n",
      "\n",
      "\n",
      "Decoded review from Tokenizer:\n",
      "i have already filed several complaints about aes i was notified by a xxxx xxxx let xxxx who to be from your office he said he was from cfpb i found out this morning he is n't from your office but is actually works at xxxx \r",
      " \r",
      " this has weeks of my time they aes confirmed and admitted see attached of xxxx conversation at xxxx xxxx with xxxx that they verified the loans are not mine the student loans they had xxxx and on and reported credit reporting in my name are in fact not mine \r",
      " they their investigation on xxxx they made a mistake and have my name on loans i these xxxx loans total 10000 00 original amount my xxxx loans i got was total 00 we by providing aes this with my original notes i located recently the xxxx of my college provided aes with their original amounts of my xxxx loans which show different dates and amounts the dates and amounts are not even close to these loans they have in my name the original lender xxxx xxxx bank notifying aes they never issued me a student loan and original loan xxxx notifying aes they never were of my loans \r",
      " \r",
      " xxxx forward but today this person xxxx xxxx told me they know these loans are not mine and they refuse to remove my name off these xxxx loan 's and correct their mistake essentially me to pay these loans off in xxxx they sold the loans to xxxx loans \r",
      " \r",
      " this is first to be this office and then refusing to correct their mistake \r",
      " \r",
      " please for the of xxxx will from your office call me at xxxx today i am a xxxx and they are against me \r",
      " to be you\n"
     ]
    }
   ],
   "source": [
    "comment_idx_to_preview = 19\n",
    "print('Original complaint text:')\n",
    "print(complaints[comment_idx_to_preview])\n",
    "print('\\n\\n')\n",
    "decoded_review = ' '.join([reverse_index.get(i) for i in sequences[comment_idx_to_preview]])\n",
    "print('Decoded review from Tokenizer:')\n",
    "print(decoded_review)"
   ]
  },
  {
   "cell_type": "markdown",
   "metadata": {},
   "source": [
    "## Convert the Products to Numerical Categories\n",
    "\n",
    "On to step two of our preprocessing: converting our descriptive categories into integers."
   ]
  },
  {
   "cell_type": "code",
   "execution_count": 8,
   "metadata": {},
   "outputs": [
    {
     "name": "stdout",
     "output_type": "stream",
     "text": [
      "Original class labels:\n",
      "['Bank account or service', 'Checking or savings account', 'Consumer Loan', 'Credit card', 'Credit reporting', 'Mortgage', 'Student loan']\n",
      "\n",
      "\n",
      "New product labels:\n",
      "[6 6 6 ... 4 4 4]\n",
      "\n",
      "\n",
      "One hot labels; 7 binary columns, one for each of the categories.\n",
      "[[0. 0. 0. ... 0. 0. 1.]\n",
      " [0. 0. 0. ... 0. 0. 1.]\n",
      " [0. 0. 0. ... 0. 0. 1.]\n",
      " ...\n",
      " [0. 0. 0. ... 1. 0. 0.]\n",
      " [0. 0. 0. ... 1. 0. 0.]\n",
      " [0. 0. 0. ... 1. 0. 0.]]\n",
      "\n",
      "\n",
      "One hot labels shape:\n",
      "(60000, 7)\n"
     ]
    }
   ],
   "source": [
    "product = df['Product']\n",
    "# Initialize\n",
    "le = preprocessing.LabelEncoder() \n",
    "le.fit(product)\n",
    "print('Original class labels:')\n",
    "print(list(le.classes_))\n",
    "print('\\n')\n",
    "product_cat = le.transform(product)  \n",
    "# If want to retrieve the original descriptive labels post production\n",
    "# list(le.inverse_transform([0, 1, 3, 3, 0, 6, 4])) \n",
    "print('New product labels:')\n",
    "print(product_cat)\n",
    "print('\\n')\n",
    "# Each row will be all zeros except for the category for that observation \n",
    "print('One hot labels; 7 binary columns, one for each of the categories.') \n",
    "product_onehot = to_categorical(product_cat)\n",
    "print(product_onehot)\n",
    "print('\\n')\n",
    "print('One hot labels shape:')\n",
    "print(np.shape(product_onehot))"
   ]
  },
  {
   "cell_type": "markdown",
   "metadata": {},
   "source": [
    "## Train-test split\n",
    "\n",
    "Now for our final preprocessing step: the usual train-test split. "
   ]
  },
  {
   "cell_type": "code",
   "execution_count": 9,
   "metadata": {},
   "outputs": [
    {
     "name": "stdout",
     "output_type": "stream",
     "text": [
      "Test label shape: (1500, 7)\n",
      "Train label shape: (58500, 7)\n",
      "Test shape: (1500, 2000)\n",
      "Train shape: (58500, 2000)\n"
     ]
    }
   ],
   "source": [
    "random.seed(123)\n",
    "test_index = random.sample(range(1,10000), 1500)\n",
    "test = one_hot_results[test_index]\n",
    "train = np.delete(one_hot_results, test_index, 0)\n",
    "label_test = product_onehot[test_index]\n",
    "label_train = np.delete(product_onehot, test_index, 0)\n",
    "print('Test label shape:', np.shape(label_test))\n",
    "print('Train label shape:', np.shape(label_train))\n",
    "print('Test shape:', np.shape(test))\n",
    "print('Train shape:', np.shape(train))"
   ]
  },
  {
   "cell_type": "markdown",
   "metadata": {},
   "source": [
    "## Building the network\n",
    "\n",
    "Let's build a fully connected (Dense) layer network with relu activation in Keras. You can do this using: `Dense(16, activation='relu')`. \n",
    "\n",
    "In this example, use two hidden layers with 50 units in the first layer and 25 in the second, both with a `'relu'` activation function. Because we are dealing with a multiclass problem (classifying the complaints into 7 categories), we use a use a `'softmax'` classifier in order to output 7 class probabilities per case.  "
   ]
  },
  {
   "cell_type": "code",
   "execution_count": 10,
   "metadata": {},
   "outputs": [],
   "source": [
    "# Initialize a sequential model\n",
    "model = models.Sequential()\n",
    "# Two layers with relu activation\n",
    "model.add(layers.Dense(50, activation='relu', input_shape=(2000,)))\n",
    "model.add(layers.Dense(25, activation='relu'))\n",
    "# One layer with softmax activation \n",
    "model.add(layers.Dense(7, activation='softmax'))"
   ]
  },
  {
   "cell_type": "markdown",
   "metadata": {},
   "source": [
    "## Compiling the model\n",
    "\n",
    "Now, compile the model! This time, use `'categorical_crossentropy'` as the loss function and stochastic gradient descent, `'SGD'` as the optimizer. As in the previous lesson, include the accuracy as a metric."
   ]
  },
  {
   "cell_type": "code",
   "execution_count": 11,
   "metadata": {},
   "outputs": [],
   "source": [
    "# Compile the model\n",
    "model.compile(optimizer='SGD',\n",
    "              loss='categorical_crossentropy',\n",
    "              metrics=['accuracy'])"
   ]
  },
  {
   "cell_type": "markdown",
   "metadata": {},
   "source": [
    "## Training the model\n",
    "\n",
    "In the compiler, you'll be passing the optimizer (SGD = stochastic gradient descent), loss function, and metrics. Train the model for 120 epochs in mini-batches of 256 samples.\n",
    "\n",
    "_Note:_ ⏰ _Your code may take about one to two minutes to run._"
   ]
  },
  {
   "cell_type": "code",
   "execution_count": 14,
   "metadata": {},
   "outputs": [
    {
     "name": "stdout",
     "output_type": "stream",
     "text": [
      "WARNING:tensorflow:From C:\\Users\\Quan\\anaconda3\\lib\\site-packages\\keras\\backend\\tensorflow_backend.py:422: The name tf.global_variables is deprecated. Please use tf.compat.v1.global_variables instead.\n",
      "\n",
      "Epoch 1/120\n",
      "58500/58500 [==============================] - 2s 35us/step - loss: 1.8849 - accuracy: 0.2498\n",
      "Epoch 2/120\n",
      "58500/58500 [==============================] - 2s 33us/step - loss: 1.6376 - accuracy: 0.4402\n",
      "Epoch 3/120\n",
      "58500/58500 [==============================] - 2s 33us/step - loss: 1.2869 - accuracy: 0.5690\n",
      "Epoch 4/120\n",
      "58500/58500 [==============================] - 2s 34us/step - loss: 1.0257 - accuracy: 0.6611\n",
      "Epoch 5/120\n",
      "58500/58500 [==============================] - 2s 33us/step - loss: 0.8692 - accuracy: 0.7025\n",
      "Epoch 6/120\n",
      "58500/58500 [==============================] - 2s 32us/step - loss: 0.7758 - accuracy: 0.7273\n",
      "Epoch 7/120\n",
      "58500/58500 [==============================] - 2s 33us/step - loss: 0.7157 - accuracy: 0.7448\n",
      "Epoch 8/120\n",
      "58500/58500 [==============================] - 2s 33us/step - loss: 0.6741 - accuracy: 0.7591\n",
      "Epoch 9/120\n",
      "58500/58500 [==============================] - 2s 33us/step - loss: 0.6438 - accuracy: 0.7684\n",
      "Epoch 10/120\n",
      "58500/58500 [==============================] - 2s 34us/step - loss: 0.6203 - accuracy: 0.7762\n",
      "Epoch 11/120\n",
      "58500/58500 [==============================] - 2s 34us/step - loss: 0.6012 - accuracy: 0.7830\n",
      "Epoch 12/120\n",
      "58500/58500 [==============================] - 2s 34us/step - loss: 0.5854 - accuracy: 0.7885\n",
      "Epoch 13/120\n",
      "58500/58500 [==============================] - 2s 33us/step - loss: 0.5720 - accuracy: 0.7934\n",
      "Epoch 14/120\n",
      "58500/58500 [==============================] - 2s 33us/step - loss: 0.5600 - accuracy: 0.7978\n",
      "Epoch 15/120\n",
      "58500/58500 [==============================] - 2s 34us/step - loss: 0.5499 - accuracy: 0.8016\n",
      "Epoch 16/120\n",
      "58500/58500 [==============================] - 2s 33us/step - loss: 0.5405 - accuracy: 0.8050\n",
      "Epoch 17/120\n",
      "58500/58500 [==============================] - 2s 33us/step - loss: 0.5320 - accuracy: 0.8083\n",
      "Epoch 18/120\n",
      "58500/58500 [==============================] - 2s 33us/step - loss: 0.5241 - accuracy: 0.8108\n",
      "Epoch 19/120\n",
      "58500/58500 [==============================] - 2s 33us/step - loss: 0.5172 - accuracy: 0.8137\n",
      "Epoch 20/120\n",
      "58500/58500 [==============================] - 2s 33us/step - loss: 0.5107 - accuracy: 0.8157\n",
      "Epoch 21/120\n",
      "58500/58500 [==============================] - 2s 33us/step - loss: 0.5045 - accuracy: 0.8185\n",
      "Epoch 22/120\n",
      "58500/58500 [==============================] - 2s 33us/step - loss: 0.4988 - accuracy: 0.8202\n",
      "Epoch 23/120\n",
      "58500/58500 [==============================] - 2s 33us/step - loss: 0.4935 - accuracy: 0.8222\n",
      "Epoch 24/120\n",
      "58500/58500 [==============================] - 2s 33us/step - loss: 0.4885 - accuracy: 0.8243\n",
      "Epoch 25/120\n",
      "58500/58500 [==============================] - 2s 33us/step - loss: 0.4839 - accuracy: 0.8262\n",
      "Epoch 26/120\n",
      "58500/58500 [==============================] - 2s 33us/step - loss: 0.4792 - accuracy: 0.8291\n",
      "Epoch 27/120\n",
      "58500/58500 [==============================] - 2s 34us/step - loss: 0.4751 - accuracy: 0.8302\n",
      "Epoch 28/120\n",
      "58500/58500 [==============================] - 2s 34us/step - loss: 0.4711 - accuracy: 0.8318\n",
      "Epoch 29/120\n",
      "58500/58500 [==============================] - 2s 39us/step - loss: 0.4672 - accuracy: 0.8332\n",
      "Epoch 30/120\n",
      "58500/58500 [==============================] - 2s 42us/step - loss: 0.4638 - accuracy: 0.8344\n",
      "Epoch 31/120\n",
      "58500/58500 [==============================] - 2s 39us/step - loss: 0.4601 - accuracy: 0.8351\n",
      "Epoch 32/120\n",
      "58500/58500 [==============================] - 2s 41us/step - loss: 0.4567 - accuracy: 0.8369\n",
      "Epoch 33/120\n",
      "58500/58500 [==============================] - 2s 39us/step - loss: 0.4535 - accuracy: 0.8378\n",
      "Epoch 34/120\n",
      "58500/58500 [==============================] - 2s 39us/step - loss: 0.4503 - accuracy: 0.8391\n",
      "Epoch 35/120\n",
      "58500/58500 [==============================] - 2s 42us/step - loss: 0.4479 - accuracy: 0.8395\n",
      "Epoch 36/120\n",
      "58500/58500 [==============================] - 3s 43us/step - loss: 0.4449 - accuracy: 0.8415\n",
      "Epoch 37/120\n",
      "58500/58500 [==============================] - 2s 41us/step - loss: 0.4422 - accuracy: 0.8428\n",
      "Epoch 38/120\n",
      "58500/58500 [==============================] - 2s 38us/step - loss: 0.4396 - accuracy: 0.8438\n",
      "Epoch 39/120\n",
      "58500/58500 [==============================] - 2s 41us/step - loss: 0.4368 - accuracy: 0.8446\n",
      "Epoch 40/120\n",
      "58500/58500 [==============================] - 2s 42us/step - loss: 0.4344 - accuracy: 0.8460\n",
      "Epoch 41/120\n",
      "58500/58500 [==============================] - 2s 39us/step - loss: 0.4319 - accuracy: 0.8468\n",
      "Epoch 42/120\n",
      "58500/58500 [==============================] - 2s 38us/step - loss: 0.4297 - accuracy: 0.8467\n",
      "Epoch 43/120\n",
      "58500/58500 [==============================] - 2s 40us/step - loss: 0.4274 - accuracy: 0.8489\n",
      "Epoch 44/120\n",
      "58500/58500 [==============================] - 2s 37us/step - loss: 0.4252 - accuracy: 0.8494\n",
      "Epoch 45/120\n",
      "58500/58500 [==============================] - 2s 39us/step - loss: 0.4228 - accuracy: 0.8503\n",
      "Epoch 46/120\n",
      "58500/58500 [==============================] - 2s 38us/step - loss: 0.4207 - accuracy: 0.8509\n",
      "Epoch 47/120\n",
      "58500/58500 [==============================] - 2s 37us/step - loss: 0.4189 - accuracy: 0.8511\n",
      "Epoch 48/120\n",
      "58500/58500 [==============================] - 2s 37us/step - loss: 0.4169 - accuracy: 0.8525\n",
      "Epoch 49/120\n",
      "58500/58500 [==============================] - 2s 38us/step - loss: 0.4152 - accuracy: 0.8520\n",
      "Epoch 50/120\n",
      "58500/58500 [==============================] - 2s 37us/step - loss: 0.4133 - accuracy: 0.8536\n",
      "Epoch 51/120\n",
      "58500/58500 [==============================] - 2s 38us/step - loss: 0.4114 - accuracy: 0.8546\n",
      "Epoch 52/120\n",
      "58500/58500 [==============================] - 2s 38us/step - loss: 0.4094 - accuracy: 0.8544\n",
      "Epoch 53/120\n",
      "58500/58500 [==============================] - 2s 39us/step - loss: 0.4078 - accuracy: 0.8548\n",
      "Epoch 54/120\n",
      "58500/58500 [==============================] - 2s 38us/step - loss: 0.4062 - accuracy: 0.8563\n",
      "Epoch 55/120\n",
      "58500/58500 [==============================] - 2s 38us/step - loss: 0.4043 - accuracy: 0.8564\n",
      "Epoch 56/120\n",
      "58500/58500 [==============================] - 2s 38us/step - loss: 0.4028 - accuracy: 0.8573\n",
      "Epoch 57/120\n",
      "58500/58500 [==============================] - 2s 38us/step - loss: 0.4014 - accuracy: 0.8573\n",
      "Epoch 58/120\n",
      "58500/58500 [==============================] - 2s 39us/step - loss: 0.3996 - accuracy: 0.8578\n",
      "Epoch 59/120\n",
      "58500/58500 [==============================] - 2s 37us/step - loss: 0.3983 - accuracy: 0.8587\n",
      "Epoch 60/120\n",
      "58500/58500 [==============================] - 2s 39us/step - loss: 0.3966 - accuracy: 0.8592\n",
      "Epoch 61/120\n",
      "58500/58500 [==============================] - 2s 38us/step - loss: 0.3951 - accuracy: 0.8603\n",
      "Epoch 62/120\n",
      "58500/58500 [==============================] - 2s 38us/step - loss: 0.3936 - accuracy: 0.8607\n",
      "Epoch 63/120\n",
      "58500/58500 [==============================] - 2s 37us/step - loss: 0.3923 - accuracy: 0.8609\n",
      "Epoch 64/120\n",
      "58500/58500 [==============================] - 2s 38us/step - loss: 0.3909 - accuracy: 0.8612\n",
      "Epoch 65/120\n",
      "58500/58500 [==============================] - 2s 38us/step - loss: 0.3898 - accuracy: 0.8617\n",
      "Epoch 66/120\n",
      "58500/58500 [==============================] - 2s 38us/step - loss: 0.3880 - accuracy: 0.8619\n",
      "Epoch 67/120\n",
      "58500/58500 [==============================] - 2s 38us/step - loss: 0.3870 - accuracy: 0.8617\n",
      "Epoch 68/120\n",
      "58500/58500 [==============================] - 2s 37us/step - loss: 0.3856 - accuracy: 0.8631\n",
      "Epoch 69/120\n",
      "58500/58500 [==============================] - 2s 39us/step - loss: 0.3841 - accuracy: 0.8634\n",
      "Epoch 70/120\n",
      "58500/58500 [==============================] - 2s 37us/step - loss: 0.3830 - accuracy: 0.8644\n",
      "Epoch 71/120\n",
      "58500/58500 [==============================] - 2s 38us/step - loss: 0.3818 - accuracy: 0.8645\n",
      "Epoch 72/120\n",
      "58500/58500 [==============================] - 2s 37us/step - loss: 0.3806 - accuracy: 0.8652\n",
      "Epoch 73/120\n",
      "58500/58500 [==============================] - 2s 38us/step - loss: 0.3791 - accuracy: 0.8662\n",
      "Epoch 74/120\n",
      "58500/58500 [==============================] - 2s 38us/step - loss: 0.3779 - accuracy: 0.8656\n",
      "Epoch 75/120\n"
     ]
    },
    {
     "name": "stdout",
     "output_type": "stream",
     "text": [
      "58500/58500 [==============================] - 2s 38us/step - loss: 0.3769 - accuracy: 0.8657\n",
      "Epoch 76/120\n",
      "58500/58500 [==============================] - 2s 36us/step - loss: 0.3759 - accuracy: 0.8676\n",
      "Epoch 77/120\n",
      "58500/58500 [==============================] - 2s 37us/step - loss: 0.3746 - accuracy: 0.8673\n",
      "Epoch 78/120\n",
      "58500/58500 [==============================] - 2s 38us/step - loss: 0.3732 - accuracy: 0.8675\n",
      "Epoch 79/120\n",
      "58500/58500 [==============================] - 2s 38us/step - loss: 0.3723 - accuracy: 0.8677\n",
      "Epoch 80/120\n",
      "58500/58500 [==============================] - 2s 37us/step - loss: 0.3714 - accuracy: 0.8690\n",
      "Epoch 81/120\n",
      "58500/58500 [==============================] - 2s 37us/step - loss: 0.3700 - accuracy: 0.8688\n",
      "Epoch 82/120\n",
      "58500/58500 [==============================] - 2s 37us/step - loss: 0.3691 - accuracy: 0.8696\n",
      "Epoch 83/120\n",
      "58500/58500 [==============================] - 2s 38us/step - loss: 0.3678 - accuracy: 0.8695\n",
      "Epoch 84/120\n",
      "58500/58500 [==============================] - 2s 38us/step - loss: 0.3670 - accuracy: 0.8706\n",
      "Epoch 85/120\n",
      "58500/58500 [==============================] - 2s 37us/step - loss: 0.3659 - accuracy: 0.8707\n",
      "Epoch 86/120\n",
      "58500/58500 [==============================] - 2s 37us/step - loss: 0.3647 - accuracy: 0.8706\n",
      "Epoch 87/120\n",
      "58500/58500 [==============================] - 2s 37us/step - loss: 0.3640 - accuracy: 0.8707\n",
      "Epoch 88/120\n",
      "58500/58500 [==============================] - 2s 39us/step - loss: 0.3628 - accuracy: 0.8723\n",
      "Epoch 89/120\n",
      "58500/58500 [==============================] - 2s 38us/step - loss: 0.3621 - accuracy: 0.8716\n",
      "Epoch 90/120\n",
      "58500/58500 [==============================] - 2s 39us/step - loss: 0.3609 - accuracy: 0.8721\n",
      "Epoch 91/120\n",
      "58500/58500 [==============================] - 2s 38us/step - loss: 0.3600 - accuracy: 0.8730\n",
      "Epoch 92/120\n",
      "58500/58500 [==============================] - 2s 38us/step - loss: 0.3589 - accuracy: 0.8736\n",
      "Epoch 93/120\n",
      "58500/58500 [==============================] - 2s 39us/step - loss: 0.3577 - accuracy: 0.8733\n",
      "Epoch 94/120\n",
      "58500/58500 [==============================] - 2s 37us/step - loss: 0.3570 - accuracy: 0.8734\n",
      "Epoch 95/120\n",
      "58500/58500 [==============================] - 2s 38us/step - loss: 0.3563 - accuracy: 0.8735 0s - loss: 0.3552 - accura\n",
      "Epoch 96/120\n",
      "58500/58500 [==============================] - 2s 38us/step - loss: 0.3547 - accuracy: 0.8745\n",
      "Epoch 97/120\n",
      "58500/58500 [==============================] - 2s 38us/step - loss: 0.3541 - accuracy: 0.8748\n",
      "Epoch 98/120\n",
      "58500/58500 [==============================] - 2s 37us/step - loss: 0.3531 - accuracy: 0.8750\n",
      "Epoch 99/120\n",
      "58500/58500 [==============================] - 2s 37us/step - loss: 0.3521 - accuracy: 0.8756\n",
      "Epoch 100/120\n",
      "58500/58500 [==============================] - 2s 38us/step - loss: 0.3509 - accuracy: 0.8758\n",
      "Epoch 101/120\n",
      "58500/58500 [==============================] - 2s 37us/step - loss: 0.3500 - accuracy: 0.8762\n",
      "Epoch 102/120\n",
      "58500/58500 [==============================] - 2s 38us/step - loss: 0.3493 - accuracy: 0.8771\n",
      "Epoch 103/120\n",
      "58500/58500 [==============================] - 2s 38us/step - loss: 0.3480 - accuracy: 0.8768\n",
      "Epoch 104/120\n",
      "58500/58500 [==============================] - 2s 41us/step - loss: 0.3473 - accuracy: 0.8774\n",
      "Epoch 105/120\n",
      "58500/58500 [==============================] - 2s 39us/step - loss: 0.3461 - accuracy: 0.8776\n",
      "Epoch 106/120\n",
      "58500/58500 [==============================] - 2s 38us/step - loss: 0.3452 - accuracy: 0.8776\n",
      "Epoch 107/120\n",
      "58500/58500 [==============================] - 2s 39us/step - loss: 0.3446 - accuracy: 0.8781\n",
      "Epoch 108/120\n",
      "58500/58500 [==============================] - 2s 39us/step - loss: 0.3431 - accuracy: 0.8788\n",
      "Epoch 109/120\n",
      "58500/58500 [==============================] - 2s 38us/step - loss: 0.3425 - accuracy: 0.8786\n",
      "Epoch 110/120\n",
      "58500/58500 [==============================] - 2s 39us/step - loss: 0.3415 - accuracy: 0.8797\n",
      "Epoch 111/120\n",
      "58500/58500 [==============================] - 2s 37us/step - loss: 0.3406 - accuracy: 0.8794\n",
      "Epoch 112/120\n",
      "58500/58500 [==============================] - 2s 38us/step - loss: 0.3399 - accuracy: 0.8795\n",
      "Epoch 113/120\n",
      "58500/58500 [==============================] - 2s 38us/step - loss: 0.3391 - accuracy: 0.8796 0s - loss: 0.339\n",
      "Epoch 114/120\n",
      "58500/58500 [==============================] - 2s 40us/step - loss: 0.3382 - accuracy: 0.8808\n",
      "Epoch 115/120\n",
      "58500/58500 [==============================] - 2s 39us/step - loss: 0.3375 - accuracy: 0.8804\n",
      "Epoch 116/120\n",
      "58500/58500 [==============================] - 2s 38us/step - loss: 0.3361 - accuracy: 0.8807\n",
      "Epoch 117/120\n",
      "58500/58500 [==============================] - 2s 38us/step - loss: 0.3352 - accuracy: 0.8818\n",
      "Epoch 118/120\n",
      "58500/58500 [==============================] - 2s 39us/step - loss: 0.3343 - accuracy: 0.8818\n",
      "Epoch 119/120\n",
      "58500/58500 [==============================] - 2s 39us/step - loss: 0.3332 - accuracy: 0.8821\n",
      "Epoch 120/120\n",
      "58500/58500 [==============================] - 2s 39us/step - loss: 0.3324 - accuracy: 0.8825\n"
     ]
    }
   ],
   "source": [
    "# Train the model \n",
    "history = model.fit(train, label_train,\n",
    "                    epochs=120, batch_size=256)"
   ]
  },
  {
   "cell_type": "markdown",
   "metadata": {},
   "source": [
    "Recall that the dictionary `history` has two entries: the loss and the accuracy achieved using the training set."
   ]
  },
  {
   "cell_type": "code",
   "execution_count": 15,
   "metadata": {},
   "outputs": [
    {
     "data": {
      "text/plain": [
       "dict_keys(['loss', 'accuracy'])"
      ]
     },
     "execution_count": 15,
     "metadata": {},
     "output_type": "execute_result"
    }
   ],
   "source": [
    "history_dict = history.history\n",
    "history_dict.keys()"
   ]
  },
  {
   "cell_type": "markdown",
   "metadata": {},
   "source": [
    "## Plot the results\n",
    "\n",
    "As you might expect, we'll use our `matplotlib` for graphing. Use the data stored in the `history_dict` above to plot the loss vs epochs and the accuracy vs epochs. "
   ]
  },
  {
   "cell_type": "code",
   "execution_count": 16,
   "metadata": {},
   "outputs": [
    {
     "data": {
      "image/png": "[encoded data removed]",
      "text/plain": [
       "<Figure size 432x288 with 1 Axes>"
      ]
     },
     "metadata": {
      "needs_background": "light"
     },
     "output_type": "display_data"
    }
   ],
   "source": [
    "# Plot the loss vs the number of epoch\n",
    "history_dict = history.history\n",
    "loss_values = history_dict['loss']\n",
    "epochs = range(1, len(loss_values) + 1)\n",
    "plt.plot(epochs, loss_values, 'g', label='Training loss')\n",
    "plt.title('Training loss')\n",
    "plt.xlabel('Epochs')\n",
    "plt.ylabel('Loss')\n",
    "plt.legend()\n",
    "plt.show()"
   ]
  },
  {
   "cell_type": "code",
   "execution_count": 18,
   "metadata": {},
   "outputs": [
    {
     "data": {
      "image/png": "[encoded data removed]",
      "text/plain": [
       "<Figure size 432x288 with 1 Axes>"
      ]
     },
     "metadata": {
      "needs_background": "light"
     },
     "output_type": "display_data"
    }
   ],
   "source": [
    "# Plot the training accuracy vs the number of epochs\n",
    "acc_values = history_dict['accuracy'] \n",
    "plt.plot(epochs, acc_values, 'r', label='Training acc')\n",
    "plt.title('Training accuracy')\n",
    "plt.xlabel('Epochs')\n",
    "plt.ylabel('Loss')\n",
    "plt.legend()\n",
    "plt.show()"
   ]
  },
  {
   "cell_type": "markdown",
   "metadata": {},
   "source": [
    "It seems like we could just keep on going and accuracy would go up!"
   ]
  },
  {
   "cell_type": "markdown",
   "metadata": {},
   "source": [
    "## Make predictions\n",
    "\n",
    "Finally, it's time to make predictions. Use the relevant method discussed in the previous lesson to output (probability) predictions for the test set."
   ]
  },
  {
   "cell_type": "code",
   "execution_count": 19,
   "metadata": {},
   "outputs": [],
   "source": [
    "# Output (probability) predictions for the test set \n",
    "y_hat_test = model.predict(test) "
   ]
  },
  {
   "cell_type": "markdown",
   "metadata": {},
   "source": [
    "## Evaluate Performance\n",
    "\n",
    "Finally, print the loss and accuracy for both the train and test sets of the final trained model."
   ]
  },
  {
   "cell_type": "code",
   "execution_count": 20,
   "metadata": {},
   "outputs": [
    {
     "name": "stdout",
     "output_type": "stream",
     "text": [
      "58500/58500 [==============================] - 2s 36us/step\n"
     ]
    },
    {
     "data": {
      "text/plain": [
       "[0.32864877227534595, 0.8838803172111511]"
      ]
     },
     "execution_count": 20,
     "metadata": {},
     "output_type": "execute_result"
    }
   ],
   "source": [
    "# Print the loss and accuracy for the training set \n",
    "results_train = model.evaluate(train, label_train)\n",
    "results_train"
   ]
  },
  {
   "cell_type": "code",
   "execution_count": 21,
   "metadata": {},
   "outputs": [
    {
     "name": "stdout",
     "output_type": "stream",
     "text": [
      "1500/1500 [==============================] - 0s 41us/step\n"
     ]
    },
    {
     "data": {
      "text/plain": [
       "[0.265435006638368, 0.9253333210945129]"
      ]
     },
     "execution_count": 21,
     "metadata": {},
     "output_type": "execute_result"
    }
   ],
   "source": [
    "# Print the loss and accuracy for the test set \n",
    "results_test = model.evaluate(test, label_test)\n",
    "results_test"
   ]
  },
  {
   "cell_type": "markdown",
   "metadata": {},
   "source": [
    "We can see that the training set results are really good, but the test set results lag behind. We'll talk a little more about this in the next lesson, and discuss how we can get better test set results as well!\n",
    "\n",
    "\n",
    "## Additional Resources \n",
    "\n",
    "- https://github.com/susanli2016/Machine-Learning-with-Python/blob/master/Consumer_complaints.ipynb \n",
    "- https://catalog.data.gov/dataset/consumer-complaint-database \n",
    "\n",
    "## Summary \n",
    "\n",
    "Congratulations! In this lab, you built a neural network thanks to the tools provided by Keras! In upcoming lessons and labs we'll continue to investigate further ideas regarding how to tune and refine these models for increased accuracy and performance."
   ]
  }
 ],
 "metadata": {
  "kernelspec": {
   "display_name": "Python 3",
   "language": "python",
   "name": "python3"
  },
  "language_info": {
   "codemirror_mode": {
    "name": "ipython",
    "version": 3
   },
   "file_extension": ".py",
   "mimetype": "text/x-python",
   "name": "python",
   "nbconvert_exporter": "python",
   "pygments_lexer": "ipython3",
   "version": "3.7.6"
  },
  "toc": {
   "base_numbering": 1,
   "nav_menu": {},
   "number_sections": true,
   "sideBar": true,
   "skip_h1_title": false,
   "title_cell": "Table of Contents",
   "title_sidebar": "Contents",
   "toc_cell": false,
   "toc_position": {},
   "toc_section_display": true,
   "toc_window_display": false
  }
 },
 "nbformat": 4,
 "nbformat_minor": 2
}
